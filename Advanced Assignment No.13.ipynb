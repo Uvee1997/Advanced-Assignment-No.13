{
 "cells": [
  {
   "cell_type": "markdown",
   "id": "6a45bf6e",
   "metadata": {},
   "source": [
    "1) Can you create a programme or function that employs both positive and negative indexing? Is there any repercussion \n",
    "   if you do so?\n",
    "   \n",
    ":- Yes we can write function for positive & negative indexing. \n",
    "   name= “Python” \n",
    " \n",
    "Print(name[-1]) \n",
    "Print(name[-2]) \n",
    " \n",
    "Output->n \n",
    "        O \n",
    "\n",
    "name=\"Python\" \n",
    "Print(name[-4:len(name)]) #start from 't' to last character. \n",
    " \n",
    "Output-->thon"
   ]
  },
  {
   "cell_type": "markdown",
   "id": "af0754f5",
   "metadata": {},
   "source": [
    "2) What is the most effective way to starting with 1000 element in a python list? Assume that all the element \n",
    "   should be set at same value\n",
    "   \n",
    ":- By using array\n",
    "   We also use for loop and append()\n",
    "   \n",
    "   arr = []\n",
    "   for i in range(1000):\n",
    "        arr.append(0)\n",
    "   \n",
    "   "
   ]
  },
  {
   "cell_type": "markdown",
   "id": "ada32d6a",
   "metadata": {},
   "source": [
    "3) How do you slice a list to get any other part while missing the rest? (For example, suppose you\n",
    "   want to make a new list with the elements first, third, fifth, seventh, and so on.)\n",
    "\n",
    ":- For list slicing operator we used colon(:)\n",
    "   lst[::] by using this we get other part while missing the rest "
   ]
  },
  {
   "cell_type": "markdown",
   "id": "280ac297",
   "metadata": {},
   "source": [
    "4) Explain the distinctions between indexing and slicing.\n",
    "\n",
    ":- Indexing returns one item. Slicing returns new list/ new tuple\n",
    "   Indexing is used to obtain individual element. Slicing is used to obtain sequence of element.  "
   ]
  },
  {
   "cell_type": "markdown",
   "id": "7ba99229",
   "metadata": {},
   "source": [
    "5) What happens if one of the slicing expression's indexes is out of range?\n",
    "\n",
    ":- Indexing returns a single item, but slicing returns a subsequence of items. So when you try to index a nonexistent value, there's nothing to return. But when you slice a sequence outside of bounds, you can still return an empty sequence."
   ]
  },
  {
   "cell_type": "markdown",
   "id": "6efdf12f",
   "metadata": {},
   "source": [
    "6) What is the concept of an unbalanced matrix?\n",
    "\n",
    ":- The number of sources is not equal to number of destinations then it is called unbalanced matrix."
   ]
  },
  {
   "cell_type": "markdown",
   "id": "96572d87",
   "metadata": {},
   "source": [
    "7) Why is it necessary to use either list comprehension or a loop to create arbitrarily large matrices?\n",
    "\n",
    ":- List comprehensions are used for creating new lists from other iterables like tuples, strings, arrays, lists. A list comprehension consists of \n",
    "    brackets containing the expression,which is executed for each element along with the for loop to iterate over each element."
   ]
  }
 ],
 "metadata": {
  "kernelspec": {
   "display_name": "Python 3 (ipykernel)",
   "language": "python",
   "name": "python3"
  },
  "language_info": {
   "codemirror_mode": {
    "name": "ipython",
    "version": 3
   },
   "file_extension": ".py",
   "mimetype": "text/x-python",
   "name": "python",
   "nbconvert_exporter": "python",
   "pygments_lexer": "ipython3",
   "version": "3.9.7"
  }
 },
 "nbformat": 4,
 "nbformat_minor": 5
}
